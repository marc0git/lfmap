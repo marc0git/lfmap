{
 "cells": [
  {
   "cell_type": "markdown",
   "id": "1dee1ca4",
   "metadata": {
    "pycharm": {
     "name": "#%%\n"
    }
   },
   "source": [
    "## Notebook on stitching experiment on Conv autoencoders trained on MNIST"
   ]
  },
  {
   "cell_type": "markdown",
   "id": "f21e5383",
   "metadata": {},
   "source": [
    "### Imports and settings"
   ]
  },
  {
   "cell_type": "code",
   "execution_count": null,
   "id": "f3278c18",
   "metadata": {
    "pycharm": {
     "name": "#%%\n"
    }
   },
   "outputs": [
    {
     "name": "stdout",
     "output_type": "stream",
     "text": [
      "err\n"
     ]
    }
   ],
   "source": [
    "import logging\n",
    "import numpy as np \n",
    "\n",
    "import pandas as pd\n",
    "import torch\n",
    "import torch.nn.functional as F\n",
    "\n",
    "import torch\n",
    "import torch.nn as nn\n",
    "import torch.optim as optim\n",
    "from torchvision import datasets, transforms, models\n",
    "from torch.utils.data import DataLoader\n",
    "import matplotlib.pyplot as plt\n",
    "import numpy as np\n",
    "\n",
    "\n",
    "import matplotlib.pyplot as plt\n",
    "\n",
    "logging.getLogger().setLevel(logging.ERROR)\n",
    "\n",
    "DEVICE: str = \"cuda\""
   ]
  },
  {
   "cell_type": "markdown",
   "id": "fc526eb7",
   "metadata": {
    "pycharm": {
     "name": "#%% md\n"
    }
   },
   "source": [
    "### functional map \n"
   ]
  },
  {
   "cell_type": "code",
   "execution_count": 9,
   "id": "464ebeac",
   "metadata": {
    "pycharm": {
     "name": "#%%\n"
    }
   },
   "outputs": [],
   "source": [
    "from estimators.FM import FM_T\n",
    "from utils.fmap import build_graph\n"
   ]
  },
  {
   "cell_type": "code",
   "execution_count": 10,
   "id": "1b92f238",
   "metadata": {},
   "outputs": [],
   "source": [
    "def compute_graph(embeddings,num_eigs=50):\n",
    "    G = build_graph(embeddings,  algo=\"knn\", kernel=\"distance\", similarity=\"angular\",k=300)\n",
    "    print(f\"Is connected? {G.G.isconnected()}\")\n",
    "            # compute eigenvalues and eigenvectors\n",
    "    G.eigvals,G.eigvecs =G.eigen_decomp(k=num_eigs)\n",
    "    return G"
   ]
  },
  {
   "cell_type": "code",
   "execution_count": null,
   "id": "122a2935",
   "metadata": {},
   "outputs": [],
   "source": []
  },
  {
   "cell_type": "code",
   "execution_count": null,
   "id": "c562534c",
   "metadata": {
    "pycharm": {
     "name": "#%%\n"
    }
   },
   "outputs": [],
   "source": []
  },
  {
   "cell_type": "code",
   "execution_count": 11,
   "id": "0fb6a03a",
   "metadata": {},
   "outputs": [],
   "source": [
    "class ConvAutoencoder(nn.Module):\n",
    "    def __init__(self,channels=1,dim=256):\n",
    "        super(ConvAutoencoder, self).__init__()\n",
    "        inn_size=7 if channels==1 else 8\n",
    "        # Encoder\n",
    "        self.encoder = nn.Sequential(\n",
    "            nn.Conv2d(channels, 32, kernel_size=3, stride=2, padding=1), # [b, 32, 14, 14]\n",
    "            nn.ReLU(),\n",
    "            nn.Conv2d(32, 64, kernel_size=3, stride=2, padding=1), # [b, 64, 7, 7]\n",
    "            nn.ReLU(),\n",
    "            nn.Flatten(),\n",
    "            nn.Linear(64 * inn_size * inn_size, dim)  # Latent space\n",
    "        )\n",
    "        # Decoder\n",
    "        self.decoder = nn.Sequential(\n",
    "            nn.Linear(dim, 64 * inn_size * inn_size),\n",
    "            nn.ReLU(),\n",
    "            nn.Unflatten(1, (64, inn_size, inn_size)),\n",
    "            nn.ConvTranspose2d(64, 32, kernel_size=3, stride=2, padding=1, output_padding=1), # [b, 32, 14, 14]\n",
    "            nn.ReLU(),\n",
    "            nn.ConvTranspose2d(32, channels, kernel_size=3, stride=2, padding=1, output_padding=1), # [b, 1, 28, 28]\n",
    "            nn.Sigmoid()\n",
    "        )\n",
    "\n",
    "    def forward(self, x):\n",
    "        encoded = self.encoder(x)\n",
    "        decoded = self.decoder(encoded)\n",
    "        return encoded, decoded"
   ]
  },
  {
   "cell_type": "code",
   "execution_count": 12,
   "id": "e34c808e",
   "metadata": {},
   "outputs": [
    {
     "name": "stderr",
     "output_type": "stream",
     "text": [
      "Global seed set to 42\n"
     ]
    },
    {
     "name": "stderr",
     "output_type": "stream",
     "text": [
      "100%|██████████| 1/1 [00:10<00:00, 10.68s/it]"
     ]
    },
    {
     "name": "stdout",
     "output_type": "stream",
     "text": [
      "Reconstruction loss on the test set: 0.4911\n"
     ]
    },
    {
     "name": "stderr",
     "output_type": "stream",
     "text": [
      "\n",
      "Global seed set to 123\n",
      "100%|██████████| 1/1 [00:09<00:00,  9.33s/it]"
     ]
    },
    {
     "name": "stdout",
     "output_type": "stream",
     "text": [
      "Reconstruction loss on the test set: 0.4901\n"
     ]
    },
    {
     "name": "stderr",
     "output_type": "stream",
     "text": [
      "\n"
     ]
    }
   ],
   "source": [
    "import os\n",
    "import numpy as np\n",
    "import torch\n",
    "from torchvision import datasets, transforms\n",
    "from pytorch_lightning.utilities.seed import seed_everything\n",
    "from tqdm import tqdm\n",
    "\n",
    "\n",
    "seeds=[42,123]\n",
    "\n",
    "test_embeddings=dict()\n",
    "for seed in seeds:\n",
    "    seed_everything(seed)\n",
    "\n",
    "    # Define the data transformations\n",
    "    transform = transforms.Compose([\n",
    "        transforms.ToTensor(),\n",
    "        transforms.Normalize((0.1307,), (0.3081,))\n",
    "    ])\n",
    "\n",
    "    # Load the MNIST dataset\n",
    "    train_dataset = datasets.MNIST(root='data', train=True, download=True, transform=transform)\n",
    "    test_dataset = datasets.MNIST(root='data', train=False, download=True, transform=transform)\n",
    "\n",
    "    # Define the data loaders\n",
    "    train_loader = torch.utils.data.DataLoader(train_dataset, batch_size=128, shuffle=True)\n",
    "    test_loader = torch.utils.data.DataLoader(test_dataset, batch_size=128, shuffle=False)\n",
    "\n",
    "    # Define the autoencoder model\n",
    "\n",
    "    # Initialize the autoencoder model\n",
    "    model = ConvAutoencoder()\n",
    "\n",
    "    # Define the loss function and optimizer\n",
    "    criterion = nn.MSELoss()\n",
    "    optimizer = torch.optim.Adam(model.parameters(), lr=0.001)\n",
    "\n",
    "    model.to(DEVICE)\n",
    "    # Train the autoencoder\n",
    "    num_epochs = 1\n",
    "    for epoch in tqdm(range(num_epochs)):\n",
    "        model.train()\n",
    "        for data in train_loader:\n",
    "            images, _ = data\n",
    "            x=images.to(DEVICE)\n",
    "            optimizer.zero_grad()\n",
    "            encoded, decoded = model(x)\n",
    "            loss = criterion(decoded, x.detach())\n",
    "            loss.backward()\n",
    "            optimizer.step()\n",
    "    \n",
    "        # Calculate the reconstruction loss on the test set\n",
    "        test_loss = 0.0\n",
    "        num_samples = 0\n",
    "\n",
    "        model.eval()  # Set the model to evaluation mode\n",
    "\n",
    "        with torch.no_grad():\n",
    "            for data in test_loader:\n",
    "                images, _ = data\n",
    "                x = images.to(DEVICE)\n",
    "                encoded, decoded = model(x)\n",
    "                loss = criterion(decoded, x.detach())\n",
    "                test_loss += loss.item() * x.size(0)\n",
    "                num_samples += x.size(0)\n",
    "\n",
    "        test_loss /= num_samples\n",
    "\n",
    "        print(f\"Reconstruction loss on the test set: {test_loss:.4f}\")\n",
    "    \n",
    "\n",
    "    # Save the test embeddings\n",
    "    os.makedirs('checkpoints_mnist_MNIST', exist_ok=True)\n",
    "    with torch.no_grad():\n",
    "        for batch_id,data in enumerate(test_loader):\n",
    "            images, _ = data\n",
    "            x = images.to(DEVICE)\n",
    "            encoded, decoded = model(x)\n",
    "            if batch_id==0:\n",
    "                test_embeddings['seed'+str(seed)]=encoded.detach().cpu().numpy()\n",
    "            else:\n",
    "                test_embeddings['seed'+str(seed)]=np.concatenate((test_embeddings['seed'+str(seed)],encoded.detach().cpu().numpy()),axis=0)\n",
    "    np.save(f'checkpoints_mnist_MNIST/test_embeddings_seed_{seed}.npy', test_embeddings['seed'+str(seed)])\n",
    "\n",
    "    torch.save(model.state_dict(), f'checkpoints_mnist_MNIST/model_weights_seed{seed}.pth')\n",
    "    \n"
   ]
  },
  {
   "cell_type": "code",
   "execution_count": 13,
   "id": "17014c6d",
   "metadata": {},
   "outputs": [
    {
     "data": {
      "image/png": "[encoded data removed]",
      "text/plain": [
       "<Figure size 1000x400 with 10 Axes>"
      ]
     },
     "metadata": {},
     "output_type": "display_data"
    }
   ],
   "source": [
    "import random\n",
    "\n",
    "# Set the seed for reproducibility\n",
    "random.seed(42)\n",
    "\n",
    "# Number of random reconstructions to plot\n",
    "num_reconstructions = 5\n",
    "\n",
    "# Select random samples from the test set\n",
    "random_samples = random.sample(range(len(test_dataset)), num_reconstructions)\n",
    "\n",
    "# Plot the random reconstructions\n",
    "fig, axs = plt.subplots(2, num_reconstructions, figsize=(10, 4))\n",
    "\n",
    "for i, sample_idx in enumerate(random_samples):\n",
    "    # Get the image and its reconstruction\n",
    "    image, _ = test_dataset[sample_idx]\n",
    "    reconstruction = model(image.unsqueeze(0).to(DEVICE))[1].squeeze(0).detach().cpu()\n",
    "\n",
    "    # Plot the original image\n",
    "    axs[0,i].imshow(image.squeeze(), cmap='gray')\n",
    "    axs[0,i].axis('off')\n",
    "    axs[0,i].set_title('Original')\n",
    "\n",
    "    # Plot the reconstruction\n",
    "    axs[1,i].imshow(reconstruction.squeeze(), cmap='gray')\n",
    "    axs[1,i].axis('off')\n",
    "    axs[1,i].set_title('Reconstruction')\n",
    "\n",
    "plt.tight_layout()\n",
    "plt.show()\n",
    "\n",
    "\n"
   ]
  },
  {
   "cell_type": "code",
   "execution_count": 14,
   "id": "5dd34d06",
   "metadata": {},
   "outputs": [
    {
     "name": "stderr",
     "output_type": "stream",
     "text": [
      "/home/marco/anaconda3/envs/lady/lib/python3.9/site-packages/scipy/sparse/_index.py:145: SparseEfficiencyWarning: Changing the sparsity structure of a csr_matrix is expensive. lil_matrix is more efficient.\n",
      "  self._set_arrayXarray(i, j, x)\n"
     ]
    },
    {
     "name": "stdout",
     "output_type": "stream",
     "text": [
      "Is connected? True\n",
      "Is connected? True\n",
      "Computing functional map with descriptors:  ['dist_geod']\n"
     ]
    },
    {
     "data": {
      "text/plain": [
       "<All keys matched successfully>"
      ]
     },
     "execution_count": 14,
     "metadata": {},
     "output_type": "execute_result"
    }
   ],
   "source": [
    "#load the models\n",
    "path_model1=f'checkpoints_mnist_MNIST/test_embeddings_seed_{seeds[0]}.npy'\n",
    "path_model2=f'checkpoints_mnist_MNIST/test_embeddings_seed_{seeds[1]}.npy'\n",
    "\n",
    "\n",
    "\n",
    "# Placeholder function for your custom functional map computation\n",
    "def compute_functional_map(x, y,n_anchor=5):\n",
    "    anchors=torch.stack([torch.arange(0,n_anchor),torch.arange(0,n_anchor)],1)\n",
    "    fmap=FM_T(torch.from_numpy(x),torch.from_numpy(y),anchors,num_eigs=50,graph_algo='knn',graph_similarity='angular',graph_kernel='distance',descriptors=('dist_geod',),k=300,n_descr=10,compute_gt_map=False)\n",
    "    return fmap\n",
    "\n",
    "\n",
    "\n",
    "X = np.load(path_model1)\n",
    "\n",
    "Y = np.load(path_model2)\n",
    "n_anchor=5   \n",
    "\n",
    "fmap=compute_functional_map(X,Y,n_anchor=n_anchor)\n",
    "#torch.seed()\n",
    "if type(X)!=torch.Tensor:\n",
    "    X=torch.from_numpy(X).float()\n",
    "    Y=torch.from_numpy(Y).float()\n",
    "\n",
    "Y_hat=X@fmap.T.numpy()\n",
    "\n",
    "\n",
    "anchors=torch.stack([torch.arange(0,n_anchor),torch.arange(0,n_anchor)])\n",
    "\n",
    "\n",
    "T=torch.linalg.lstsq(X[anchors[0,:]],Y[anchors[0,:]]).solution\n",
    "Y_hat_t=X@T.numpy()\n",
    "\n",
    "\n",
    "path_model1=f'checkpoints_mnist_MNIST/model_weights_seed{seeds[0]}.pth'\n",
    "path_model2=f'checkpoints_mnist_MNIST/model_weights_seed{seeds[1]}.pth'\n",
    "\n",
    "m1=ConvAutoencoder()\n",
    "m1.load_state_dict(torch.load(path_model1))\n",
    "\n",
    "m2=ConvAutoencoder()\n",
    "m2.load_state_dict(torch.load(path_model2))\n"
   ]
  },
  {
   "cell_type": "code",
   "execution_count": null,
   "id": "4d2b923c",
   "metadata": {},
   "outputs": [],
   "source": []
  },
  {
   "cell_type": "code",
   "execution_count": null,
   "id": "46bcc7f9",
   "metadata": {},
   "outputs": [],
   "source": []
  },
  {
   "cell_type": "code",
   "execution_count": 15,
   "id": "212aa0b6",
   "metadata": {},
   "outputs": [],
   "source": [
    "import os \n",
    "savedir='Results_autoencoder_stitching'\n",
    "os.makedirs(savedir,exist_ok=True)"
   ]
  },
  {
   "cell_type": "code",
   "execution_count": 16,
   "id": "bd4faa0e",
   "metadata": {},
   "outputs": [
    {
     "data": {
      "image/png": "[encoded data removed]",
      "text/plain": [
       "<Figure size 1000x2000 with 25 Axes>"
      ]
     },
     "metadata": {},
     "output_type": "display_data"
    }
   ],
   "source": [
    "torch.manual_seed(42)\n",
    "\n",
    "N=5\n",
    "if type(X)!=torch.Tensor:\n",
    "    X=torch.from_numpy(X).float()\n",
    "    Y=torch.from_numpy(Y).float()\n",
    "    Y_hat=torch.from_numpy(Y_hat).float()\n",
    "idx=torch.randperm(X.shape[0])[:N]\n",
    "\n",
    "out_X=m1.decoder(X[idx,:]).reshape(-1,28,28)\n",
    "out_Y=m2.decoder(Y[idx,:]).reshape(-1,28,28)\n",
    "\n",
    "out_X_hat=m2.decoder(Y_hat[idx,:]).reshape(-1,28,28)\n",
    "out_XY=m2.decoder(X[idx,:]).reshape(-1,28,28)\n",
    "out_X_HAT_T=m2.decoder(Y_hat_t[idx,:]).reshape(-1,28,28)\n",
    "fig,axs=plt.subplots(N,5,figsize=(10,20))\n",
    "for i in range(N):\n",
    "    axs[i,0].imshow(out_X[i].detach().numpy(),cmap='gray')\n",
    "    axs[i,1].imshow(out_Y[i].detach().numpy(),cmap='gray')\n",
    "    axs[i,4].imshow(out_X_hat[i].detach().numpy(),cmap='gray')\n",
    "    axs[i,2].imshow(out_XY[i].detach().numpy(),cmap='gray')\n",
    "    axs[i,3].imshow(out_X_HAT_T[i].detach().numpy(),cmap='gray')\n",
    "    axs[i,0].axis('off')\n",
    "    axs[i,1].axis('off')\n",
    "    axs[i,2].axis('off')\n",
    "    axs[i,3].axis('off')\n",
    "    axs[i,4].axis('off')\n",
    "\n",
    "# Add column names\n",
    "axs[0,0].set_title('E1 D1')\n",
    "axs[0,1].set_title('E2 D2')\n",
    "axs[0,4].set_title('LFMap stitching')\n",
    "axs[0,2].set_title('Absolute')\n",
    "axs[0,3].set_title('Orthogonal[22]')\n",
    "plt.savefig(os.path.join(savedir,'mnist_autoencoder.png'),dpi=300)\n",
    "plt.show()\n"
   ]
  }
 ],
 "metadata": {
  "kernelspec": {
   "display_name": "lady",
   "language": "python",
   "name": "lady"
  },
  "language_info": {
   "codemirror_mode": {
    "name": "ipython",
    "version": 3
   },
   "file_extension": ".py",
   "mimetype": "text/x-python",
   "name": "python",
   "nbconvert_exporter": "python",
   "pygments_lexer": "ipython3",
   "version": "3.9.16"
  }
 },
 "nbformat": 4,
 "nbformat_minor": 5
}
